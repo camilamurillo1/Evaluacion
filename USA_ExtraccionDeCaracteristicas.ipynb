{
  "nbformat": 4,
  "nbformat_minor": 0,
  "metadata": {
    "colab": {
      "provenance": [],
      "authorship_tag": "ABX9TyNSHdag71Wky+Uav7vhYQs5",
      "include_colab_link": true
    },
    "kernelspec": {
      "name": "python3",
      "display_name": "Python 3"
    },
    "language_info": {
      "name": "python"
    }
  },
  "cells": [
    {
      "cell_type": "markdown",
      "metadata": {
        "id": "view-in-github",
        "colab_type": "text"
      },
      "source": [
        "<a href=\"https://colab.research.google.com/github/camilamurillo1/Evaluacion/blob/main/USA_ExtraccionDeCaracteristicas.ipynb\" target=\"_parent\"><img src=\"https://colab.research.google.com/assets/colab-badge.svg\" alt=\"Open In Colab\"/></a>"
      ]
    },
    {
      "cell_type": "code",
      "execution_count": null,
      "metadata": {
        "id": "kghrXAejGRPh"
      },
      "outputs": [],
      "source": [
        "pip install funpymodeling"
      ]
    },
    {
      "cell_type": "code",
      "source": [
        "import pandas as pd\n",
        "import numpy as np\n",
        "import matplotlib.pyplot as plt\n",
        "import seaborn as sns\n",
        "from funpymodeling.exploratory import freq_tbl "
      ],
      "metadata": {
        "id": "5iQa-2TqIInK"
      },
      "execution_count": 6,
      "outputs": []
    },
    {
      "cell_type": "code",
      "source": [
        "df= pd.read_csv('NulosUSA.csv') \n",
        "df"
      ],
      "metadata": {
        "colab": {
          "base_uri": "https://localhost:8080/",
          "height": 1000
        },
        "id": "Xo50qjymIK1P",
        "outputId": "c581409c-82e3-4dbc-d666-245367158023"
      },
      "execution_count": 20,
      "outputs": [
        {
          "output_type": "execute_result",
          "data": {
            "text/plain": [
              "      Unnamed: 0         ï»¿id  listing_url     scrape_id  last_scraped  \\\n",
              "0              0  9.580000e+02          0.0  2.020000e+13           0.0   \n",
              "1              1  5.858000e+03          0.0  2.020000e+13           0.0   \n",
              "2              2  8.142000e+03          0.0  2.020000e+13           0.0   \n",
              "3              3  8.339000e+03          0.0  2.020000e+13           0.0   \n",
              "4              4  8.739000e+03          0.0  2.020000e+13           0.0   \n",
              "...          ...           ...          ...           ...           ...   \n",
              "6931        6931  8.180000e+17          0.0  2.020000e+13           0.0   \n",
              "6932        6932  8.180000e+17          0.0  2.020000e+13           0.0   \n",
              "6933        6933  8.180000e+17          0.0  2.020000e+13           0.0   \n",
              "6934        6934  8.180000e+17          0.0  2.020000e+13           0.0   \n",
              "6935        6935  8.190000e+17          0.0  2.020000e+13           0.0   \n",
              "\n",
              "      source  name  description  neighborhood_overview  picture_url  ...  \\\n",
              "0        0.0   0.0          0.0                    0.0          0.0  ...   \n",
              "1        0.0   0.0          0.0                    0.0          0.0  ...   \n",
              "2        0.0   0.0          0.0                    0.0          0.0  ...   \n",
              "3        0.0   0.0          0.0                    0.0          0.0  ...   \n",
              "4        0.0   0.0          0.0                    0.0          0.0  ...   \n",
              "...      ...   ...          ...                    ...          ...  ...   \n",
              "6931     0.0   0.0          0.0                    0.0          0.0  ...   \n",
              "6932     0.0   0.0          0.0                    0.0          0.0  ...   \n",
              "6933     0.0   0.0          0.0                    0.0          0.0  ...   \n",
              "6934     0.0   0.0          0.0                    0.0          0.0  ...   \n",
              "6935     0.0   0.0          0.0                    0.0          0.0  ...   \n",
              "\n",
              "          room_type.1  bathrooms_text.1  \\\n",
              "0     Entire home/apt            1 bath   \n",
              "1     Entire home/apt            1 bath   \n",
              "2        Private room    4 shared baths   \n",
              "3     Entire home/apt         1.5 baths   \n",
              "4        Private room    1 private bath   \n",
              "...               ...               ...   \n",
              "6931  Entire home/apt            1 bath   \n",
              "6932  Entire home/apt            1 bath   \n",
              "6933     Private room     1 shared bath   \n",
              "6934     Private room     1 shared bath   \n",
              "6935  Entire home/apt            1 bath   \n",
              "\n",
              "                                            amenities.1  price.1  \\\n",
              "0     [\"Oven\", \"Self check-in\", \"Cooking basics\", \"L...  $202.00   \n",
              "1     [\"Essentials\", \"Carbon monoxide alarm\", \"Hange...  $235.00   \n",
              "2     [\"Security cameras on property\", \"Host greets ...   $56.00   \n",
              "3     [\"Oven\", \"Cooking basics\", \"TV\", \"Smoke alarm\"...  $575.00   \n",
              "4     [\"Paid parking garage off premises\", \"Luggage ...  $110.00   \n",
              "...                                                 ...      ...   \n",
              "6931  [\"Security cameras on property\", \"Self check-i...  $164.00   \n",
              "6932  [\"Cooking basics\", \"Luggage dropoff allowed\", ...  $228.00   \n",
              "6933  [\"TV\", \"Free dryer – In unit\", \"Mountain view\"...  $104.00   \n",
              "6934  [\"Essentials\", \"Carbon monoxide alarm\", \"Centr...   $65.00   \n",
              "6935  [\"Carbon monoxide alarm\", \"Security cameras on...  $375.00   \n",
              "\n",
              "      has_availability.1  calendar_last_scraped.1  first_review.1  \\\n",
              "0                      t               06/03/2023      23/07/2009   \n",
              "1                      t               06/03/2023      03/05/2009   \n",
              "2                      t               06/03/2023      08/09/2014   \n",
              "3                      t               06/03/2023      25/09/2009   \n",
              "4                      t               06/03/2023      01/08/2009   \n",
              "...                  ...                      ...             ...   \n",
              "6931                   t               06/03/2023               x   \n",
              "6932                   t               06/03/2023      03/03/2023   \n",
              "6933                   t               06/03/2023               x   \n",
              "6934                   t               06/03/2023               x   \n",
              "6935                   t               06/03/2023               x   \n",
              "\n",
              "      last_review.1                  license.1  instant_bookable.1  \n",
              "0        19/02/2023  City Registration Pending                   f  \n",
              "1        06/08/2017                          x                   f  \n",
              "2        27/10/2022                          x                   f  \n",
              "3        28/06/2019                STR-0000264                   f  \n",
              "4        25/02/2023                STR-0000028                   f  \n",
              "...             ...                        ...                 ...  \n",
              "6931              x                     147904                   t  \n",
              "6932     03/03/2023             2023-001477STR                   f  \n",
              "6933              x                          x                   f  \n",
              "6934              x             2022-012562STR                   f  \n",
              "6935              x                          x                   t  \n",
              "\n",
              "[6936 rows x 111 columns]"
            ],
            "text/html": [
              "\n",
              "  <div id=\"df-faca1296-c724-496e-864d-b0af4a2c7bab\">\n",
              "    <div class=\"colab-df-container\">\n",
              "      <div>\n",
              "<style scoped>\n",
              "    .dataframe tbody tr th:only-of-type {\n",
              "        vertical-align: middle;\n",
              "    }\n",
              "\n",
              "    .dataframe tbody tr th {\n",
              "        vertical-align: top;\n",
              "    }\n",
              "\n",
              "    .dataframe thead th {\n",
              "        text-align: right;\n",
              "    }\n",
              "</style>\n",
              "<table border=\"1\" class=\"dataframe\">\n",
              "  <thead>\n",
              "    <tr style=\"text-align: right;\">\n",
              "      <th></th>\n",
              "      <th>Unnamed: 0</th>\n",
              "      <th>ï»¿id</th>\n",
              "      <th>listing_url</th>\n",
              "      <th>scrape_id</th>\n",
              "      <th>last_scraped</th>\n",
              "      <th>source</th>\n",
              "      <th>name</th>\n",
              "      <th>description</th>\n",
              "      <th>neighborhood_overview</th>\n",
              "      <th>picture_url</th>\n",
              "      <th>...</th>\n",
              "      <th>room_type.1</th>\n",
              "      <th>bathrooms_text.1</th>\n",
              "      <th>amenities.1</th>\n",
              "      <th>price.1</th>\n",
              "      <th>has_availability.1</th>\n",
              "      <th>calendar_last_scraped.1</th>\n",
              "      <th>first_review.1</th>\n",
              "      <th>last_review.1</th>\n",
              "      <th>license.1</th>\n",
              "      <th>instant_bookable.1</th>\n",
              "    </tr>\n",
              "  </thead>\n",
              "  <tbody>\n",
              "    <tr>\n",
              "      <th>0</th>\n",
              "      <td>0</td>\n",
              "      <td>9.580000e+02</td>\n",
              "      <td>0.0</td>\n",
              "      <td>2.020000e+13</td>\n",
              "      <td>0.0</td>\n",
              "      <td>0.0</td>\n",
              "      <td>0.0</td>\n",
              "      <td>0.0</td>\n",
              "      <td>0.0</td>\n",
              "      <td>0.0</td>\n",
              "      <td>...</td>\n",
              "      <td>Entire home/apt</td>\n",
              "      <td>1 bath</td>\n",
              "      <td>[\"Oven\", \"Self check-in\", \"Cooking basics\", \"L...</td>\n",
              "      <td>$202.00</td>\n",
              "      <td>t</td>\n",
              "      <td>06/03/2023</td>\n",
              "      <td>23/07/2009</td>\n",
              "      <td>19/02/2023</td>\n",
              "      <td>City Registration Pending</td>\n",
              "      <td>f</td>\n",
              "    </tr>\n",
              "    <tr>\n",
              "      <th>1</th>\n",
              "      <td>1</td>\n",
              "      <td>5.858000e+03</td>\n",
              "      <td>0.0</td>\n",
              "      <td>2.020000e+13</td>\n",
              "      <td>0.0</td>\n",
              "      <td>0.0</td>\n",
              "      <td>0.0</td>\n",
              "      <td>0.0</td>\n",
              "      <td>0.0</td>\n",
              "      <td>0.0</td>\n",
              "      <td>...</td>\n",
              "      <td>Entire home/apt</td>\n",
              "      <td>1 bath</td>\n",
              "      <td>[\"Essentials\", \"Carbon monoxide alarm\", \"Hange...</td>\n",
              "      <td>$235.00</td>\n",
              "      <td>t</td>\n",
              "      <td>06/03/2023</td>\n",
              "      <td>03/05/2009</td>\n",
              "      <td>06/08/2017</td>\n",
              "      <td>x</td>\n",
              "      <td>f</td>\n",
              "    </tr>\n",
              "    <tr>\n",
              "      <th>2</th>\n",
              "      <td>2</td>\n",
              "      <td>8.142000e+03</td>\n",
              "      <td>0.0</td>\n",
              "      <td>2.020000e+13</td>\n",
              "      <td>0.0</td>\n",
              "      <td>0.0</td>\n",
              "      <td>0.0</td>\n",
              "      <td>0.0</td>\n",
              "      <td>0.0</td>\n",
              "      <td>0.0</td>\n",
              "      <td>...</td>\n",
              "      <td>Private room</td>\n",
              "      <td>4 shared baths</td>\n",
              "      <td>[\"Security cameras on property\", \"Host greets ...</td>\n",
              "      <td>$56.00</td>\n",
              "      <td>t</td>\n",
              "      <td>06/03/2023</td>\n",
              "      <td>08/09/2014</td>\n",
              "      <td>27/10/2022</td>\n",
              "      <td>x</td>\n",
              "      <td>f</td>\n",
              "    </tr>\n",
              "    <tr>\n",
              "      <th>3</th>\n",
              "      <td>3</td>\n",
              "      <td>8.339000e+03</td>\n",
              "      <td>0.0</td>\n",
              "      <td>2.020000e+13</td>\n",
              "      <td>0.0</td>\n",
              "      <td>0.0</td>\n",
              "      <td>0.0</td>\n",
              "      <td>0.0</td>\n",
              "      <td>0.0</td>\n",
              "      <td>0.0</td>\n",
              "      <td>...</td>\n",
              "      <td>Entire home/apt</td>\n",
              "      <td>1.5 baths</td>\n",
              "      <td>[\"Oven\", \"Cooking basics\", \"TV\", \"Smoke alarm\"...</td>\n",
              "      <td>$575.00</td>\n",
              "      <td>t</td>\n",
              "      <td>06/03/2023</td>\n",
              "      <td>25/09/2009</td>\n",
              "      <td>28/06/2019</td>\n",
              "      <td>STR-0000264</td>\n",
              "      <td>f</td>\n",
              "    </tr>\n",
              "    <tr>\n",
              "      <th>4</th>\n",
              "      <td>4</td>\n",
              "      <td>8.739000e+03</td>\n",
              "      <td>0.0</td>\n",
              "      <td>2.020000e+13</td>\n",
              "      <td>0.0</td>\n",
              "      <td>0.0</td>\n",
              "      <td>0.0</td>\n",
              "      <td>0.0</td>\n",
              "      <td>0.0</td>\n",
              "      <td>0.0</td>\n",
              "      <td>...</td>\n",
              "      <td>Private room</td>\n",
              "      <td>1 private bath</td>\n",
              "      <td>[\"Paid parking garage off premises\", \"Luggage ...</td>\n",
              "      <td>$110.00</td>\n",
              "      <td>t</td>\n",
              "      <td>06/03/2023</td>\n",
              "      <td>01/08/2009</td>\n",
              "      <td>25/02/2023</td>\n",
              "      <td>STR-0000028</td>\n",
              "      <td>f</td>\n",
              "    </tr>\n",
              "    <tr>\n",
              "      <th>...</th>\n",
              "      <td>...</td>\n",
              "      <td>...</td>\n",
              "      <td>...</td>\n",
              "      <td>...</td>\n",
              "      <td>...</td>\n",
              "      <td>...</td>\n",
              "      <td>...</td>\n",
              "      <td>...</td>\n",
              "      <td>...</td>\n",
              "      <td>...</td>\n",
              "      <td>...</td>\n",
              "      <td>...</td>\n",
              "      <td>...</td>\n",
              "      <td>...</td>\n",
              "      <td>...</td>\n",
              "      <td>...</td>\n",
              "      <td>...</td>\n",
              "      <td>...</td>\n",
              "      <td>...</td>\n",
              "      <td>...</td>\n",
              "      <td>...</td>\n",
              "    </tr>\n",
              "    <tr>\n",
              "      <th>6931</th>\n",
              "      <td>6931</td>\n",
              "      <td>8.180000e+17</td>\n",
              "      <td>0.0</td>\n",
              "      <td>2.020000e+13</td>\n",
              "      <td>0.0</td>\n",
              "      <td>0.0</td>\n",
              "      <td>0.0</td>\n",
              "      <td>0.0</td>\n",
              "      <td>0.0</td>\n",
              "      <td>0.0</td>\n",
              "      <td>...</td>\n",
              "      <td>Entire home/apt</td>\n",
              "      <td>1 bath</td>\n",
              "      <td>[\"Security cameras on property\", \"Self check-i...</td>\n",
              "      <td>$164.00</td>\n",
              "      <td>t</td>\n",
              "      <td>06/03/2023</td>\n",
              "      <td>x</td>\n",
              "      <td>x</td>\n",
              "      <td>147904</td>\n",
              "      <td>t</td>\n",
              "    </tr>\n",
              "    <tr>\n",
              "      <th>6932</th>\n",
              "      <td>6932</td>\n",
              "      <td>8.180000e+17</td>\n",
              "      <td>0.0</td>\n",
              "      <td>2.020000e+13</td>\n",
              "      <td>0.0</td>\n",
              "      <td>0.0</td>\n",
              "      <td>0.0</td>\n",
              "      <td>0.0</td>\n",
              "      <td>0.0</td>\n",
              "      <td>0.0</td>\n",
              "      <td>...</td>\n",
              "      <td>Entire home/apt</td>\n",
              "      <td>1 bath</td>\n",
              "      <td>[\"Cooking basics\", \"Luggage dropoff allowed\", ...</td>\n",
              "      <td>$228.00</td>\n",
              "      <td>t</td>\n",
              "      <td>06/03/2023</td>\n",
              "      <td>03/03/2023</td>\n",
              "      <td>03/03/2023</td>\n",
              "      <td>2023-001477STR</td>\n",
              "      <td>f</td>\n",
              "    </tr>\n",
              "    <tr>\n",
              "      <th>6933</th>\n",
              "      <td>6933</td>\n",
              "      <td>8.180000e+17</td>\n",
              "      <td>0.0</td>\n",
              "      <td>2.020000e+13</td>\n",
              "      <td>0.0</td>\n",
              "      <td>0.0</td>\n",
              "      <td>0.0</td>\n",
              "      <td>0.0</td>\n",
              "      <td>0.0</td>\n",
              "      <td>0.0</td>\n",
              "      <td>...</td>\n",
              "      <td>Private room</td>\n",
              "      <td>1 shared bath</td>\n",
              "      <td>[\"TV\", \"Free dryer – In unit\", \"Mountain view\"...</td>\n",
              "      <td>$104.00</td>\n",
              "      <td>t</td>\n",
              "      <td>06/03/2023</td>\n",
              "      <td>x</td>\n",
              "      <td>x</td>\n",
              "      <td>x</td>\n",
              "      <td>f</td>\n",
              "    </tr>\n",
              "    <tr>\n",
              "      <th>6934</th>\n",
              "      <td>6934</td>\n",
              "      <td>8.180000e+17</td>\n",
              "      <td>0.0</td>\n",
              "      <td>2.020000e+13</td>\n",
              "      <td>0.0</td>\n",
              "      <td>0.0</td>\n",
              "      <td>0.0</td>\n",
              "      <td>0.0</td>\n",
              "      <td>0.0</td>\n",
              "      <td>0.0</td>\n",
              "      <td>...</td>\n",
              "      <td>Private room</td>\n",
              "      <td>1 shared bath</td>\n",
              "      <td>[\"Essentials\", \"Carbon monoxide alarm\", \"Centr...</td>\n",
              "      <td>$65.00</td>\n",
              "      <td>t</td>\n",
              "      <td>06/03/2023</td>\n",
              "      <td>x</td>\n",
              "      <td>x</td>\n",
              "      <td>2022-012562STR</td>\n",
              "      <td>f</td>\n",
              "    </tr>\n",
              "    <tr>\n",
              "      <th>6935</th>\n",
              "      <td>6935</td>\n",
              "      <td>8.190000e+17</td>\n",
              "      <td>0.0</td>\n",
              "      <td>2.020000e+13</td>\n",
              "      <td>0.0</td>\n",
              "      <td>0.0</td>\n",
              "      <td>0.0</td>\n",
              "      <td>0.0</td>\n",
              "      <td>0.0</td>\n",
              "      <td>0.0</td>\n",
              "      <td>...</td>\n",
              "      <td>Entire home/apt</td>\n",
              "      <td>1 bath</td>\n",
              "      <td>[\"Carbon monoxide alarm\", \"Security cameras on...</td>\n",
              "      <td>$375.00</td>\n",
              "      <td>t</td>\n",
              "      <td>06/03/2023</td>\n",
              "      <td>x</td>\n",
              "      <td>x</td>\n",
              "      <td>x</td>\n",
              "      <td>t</td>\n",
              "    </tr>\n",
              "  </tbody>\n",
              "</table>\n",
              "<p>6936 rows × 111 columns</p>\n",
              "</div>\n",
              "      <button class=\"colab-df-convert\" onclick=\"convertToInteractive('df-faca1296-c724-496e-864d-b0af4a2c7bab')\"\n",
              "              title=\"Convert this dataframe to an interactive table.\"\n",
              "              style=\"display:none;\">\n",
              "        \n",
              "  <svg xmlns=\"http://www.w3.org/2000/svg\" height=\"24px\"viewBox=\"0 0 24 24\"\n",
              "       width=\"24px\">\n",
              "    <path d=\"M0 0h24v24H0V0z\" fill=\"none\"/>\n",
              "    <path d=\"M18.56 5.44l.94 2.06.94-2.06 2.06-.94-2.06-.94-.94-2.06-.94 2.06-2.06.94zm-11 1L8.5 8.5l.94-2.06 2.06-.94-2.06-.94L8.5 2.5l-.94 2.06-2.06.94zm10 10l.94 2.06.94-2.06 2.06-.94-2.06-.94-.94-2.06-.94 2.06-2.06.94z\"/><path d=\"M17.41 7.96l-1.37-1.37c-.4-.4-.92-.59-1.43-.59-.52 0-1.04.2-1.43.59L10.3 9.45l-7.72 7.72c-.78.78-.78 2.05 0 2.83L4 21.41c.39.39.9.59 1.41.59.51 0 1.02-.2 1.41-.59l7.78-7.78 2.81-2.81c.8-.78.8-2.07 0-2.86zM5.41 20L4 18.59l7.72-7.72 1.47 1.35L5.41 20z\"/>\n",
              "  </svg>\n",
              "      </button>\n",
              "      \n",
              "  <style>\n",
              "    .colab-df-container {\n",
              "      display:flex;\n",
              "      flex-wrap:wrap;\n",
              "      gap: 12px;\n",
              "    }\n",
              "\n",
              "    .colab-df-convert {\n",
              "      background-color: #E8F0FE;\n",
              "      border: none;\n",
              "      border-radius: 50%;\n",
              "      cursor: pointer;\n",
              "      display: none;\n",
              "      fill: #1967D2;\n",
              "      height: 32px;\n",
              "      padding: 0 0 0 0;\n",
              "      width: 32px;\n",
              "    }\n",
              "\n",
              "    .colab-df-convert:hover {\n",
              "      background-color: #E2EBFA;\n",
              "      box-shadow: 0px 1px 2px rgba(60, 64, 67, 0.3), 0px 1px 3px 1px rgba(60, 64, 67, 0.15);\n",
              "      fill: #174EA6;\n",
              "    }\n",
              "\n",
              "    [theme=dark] .colab-df-convert {\n",
              "      background-color: #3B4455;\n",
              "      fill: #D2E3FC;\n",
              "    }\n",
              "\n",
              "    [theme=dark] .colab-df-convert:hover {\n",
              "      background-color: #434B5C;\n",
              "      box-shadow: 0px 1px 3px 1px rgba(0, 0, 0, 0.15);\n",
              "      filter: drop-shadow(0px 1px 2px rgba(0, 0, 0, 0.3));\n",
              "      fill: #FFFFFF;\n",
              "    }\n",
              "  </style>\n",
              "\n",
              "      <script>\n",
              "        const buttonEl =\n",
              "          document.querySelector('#df-faca1296-c724-496e-864d-b0af4a2c7bab button.colab-df-convert');\n",
              "        buttonEl.style.display =\n",
              "          google.colab.kernel.accessAllowed ? 'block' : 'none';\n",
              "\n",
              "        async function convertToInteractive(key) {\n",
              "          const element = document.querySelector('#df-faca1296-c724-496e-864d-b0af4a2c7bab');\n",
              "          const dataTable =\n",
              "            await google.colab.kernel.invokeFunction('convertToInteractive',\n",
              "                                                     [key], {});\n",
              "          if (!dataTable) return;\n",
              "\n",
              "          const docLinkHtml = 'Like what you see? Visit the ' +\n",
              "            '<a target=\"_blank\" href=https://colab.research.google.com/notebooks/data_table.ipynb>data table notebook</a>'\n",
              "            + ' to learn more about interactive tables.';\n",
              "          element.innerHTML = '';\n",
              "          dataTable['output_type'] = 'display_data';\n",
              "          await google.colab.output.renderOutput(dataTable, element);\n",
              "          const docLink = document.createElement('div');\n",
              "          docLink.innerHTML = docLinkHtml;\n",
              "          element.appendChild(docLink);\n",
              "        }\n",
              "      </script>\n",
              "    </div>\n",
              "  </div>\n",
              "  "
            ]
          },
          "metadata": {},
          "execution_count": 20
        }
      ]
    },
    {
      "cell_type": "code",
      "source": [
        "freq_tbl(df)"
      ],
      "metadata": {
        "id": "CePPF8pcIM9y"
      },
      "execution_count": null,
      "outputs": []
    },
    {
      "cell_type": "code",
      "source": [
        "df.info()"
      ],
      "metadata": {
        "colab": {
          "base_uri": "https://localhost:8080/"
        },
        "id": "k1DCaGwnIXyp",
        "outputId": "cd3c4302-b091-40c7-faf0-54adc19f14eb"
      },
      "execution_count": 22,
      "outputs": [
        {
          "output_type": "stream",
          "name": "stdout",
          "text": [
            "<class 'pandas.core.frame.DataFrame'>\n",
            "RangeIndex: 6936 entries, 0 to 6935\n",
            "Columns: 111 entries, Unnamed: 0 to instant_bookable.1\n",
            "dtypes: float64(70), int64(6), object(35)\n",
            "memory usage: 5.9+ MB\n"
          ]
        }
      ]
    },
    {
      "cell_type": "code",
      "source": [
        "table1= freq_tbl(df['number_of_reviews'])\n",
        "table1"
      ],
      "metadata": {
        "colab": {
          "base_uri": "https://localhost:8080/",
          "height": 36
        },
        "id": "7i-UW24BInV6",
        "outputId": "fd742f53-a515-4dfb-a94e-e8a5e3a2c53e"
      },
      "execution_count": 28,
      "outputs": [
        {
          "output_type": "execute_result",
          "data": {
            "text/plain": [
              "'No categorical variables to analyze.'"
            ],
            "application/vnd.google.colaboratory.intrinsic+json": {
              "type": "string"
            }
          },
          "metadata": {},
          "execution_count": 28
        }
      ]
    },
    {
      "cell_type": "code",
      "source": [
        "table2= freq_tbl(df['review_scores_cleanliness'])\n",
        "table2"
      ],
      "metadata": {
        "colab": {
          "base_uri": "https://localhost:8080/",
          "height": 36
        },
        "id": "qpBcSLUlMSPN",
        "outputId": "38a947c0-94b3-42e9-b9bb-2cd8c05b9c08"
      },
      "execution_count": 29,
      "outputs": [
        {
          "output_type": "execute_result",
          "data": {
            "text/plain": [
              "'No categorical variables to analyze.'"
            ],
            "application/vnd.google.colaboratory.intrinsic+json": {
              "type": "string"
            }
          },
          "metadata": {},
          "execution_count": 29
        }
      ]
    },
    {
      "cell_type": "code",
      "source": [
        "table3= freq_tbl(df['review_scores_location'])\n",
        "table3"
      ],
      "metadata": {
        "colab": {
          "base_uri": "https://localhost:8080/",
          "height": 36
        },
        "id": "bD21q7D1MY_b",
        "outputId": "8e2c7d0f-d956-40c1-9c9f-2c4534a661ef"
      },
      "execution_count": 30,
      "outputs": [
        {
          "output_type": "execute_result",
          "data": {
            "text/plain": [
              "'No categorical variables to analyze.'"
            ],
            "application/vnd.google.colaboratory.intrinsic+json": {
              "type": "string"
            }
          },
          "metadata": {},
          "execution_count": 30
        }
      ]
    },
    {
      "cell_type": "code",
      "source": [
        "table4= freq_tbl(df[\"host_acceptance_rate\"])\n",
        "table4"
      ],
      "metadata": {
        "colab": {
          "base_uri": "https://localhost:8080/",
          "height": 36
        },
        "id": "5mmj-96XMd8o",
        "outputId": "29e01dfe-52ea-4108-dc17-3504baa0d58b"
      },
      "execution_count": 31,
      "outputs": [
        {
          "output_type": "execute_result",
          "data": {
            "text/plain": [
              "'No categorical variables to analyze.'"
            ],
            "application/vnd.google.colaboratory.intrinsic+json": {
              "type": "string"
            }
          },
          "metadata": {},
          "execution_count": 31
        }
      ]
    },
    {
      "cell_type": "code",
      "source": [
        "table5= freq_tbl(df['property_type'])\n",
        "table5"
      ],
      "metadata": {
        "colab": {
          "base_uri": "https://localhost:8080/",
          "height": 36
        },
        "id": "6ciB7-_9Mly5",
        "outputId": "5297a6e9-8418-49a3-ca22-54ffec27eae2"
      },
      "execution_count": 32,
      "outputs": [
        {
          "output_type": "execute_result",
          "data": {
            "text/plain": [
              "'No categorical variables to analyze.'"
            ],
            "application/vnd.google.colaboratory.intrinsic+json": {
              "type": "string"
            }
          },
          "metadata": {},
          "execution_count": 32
        }
      ]
    },
    {
      "cell_type": "code",
      "source": [
        "table6= freq_tbl(df['availability_365'])\n",
        "table6"
      ],
      "metadata": {
        "colab": {
          "base_uri": "https://localhost:8080/",
          "height": 36
        },
        "id": "xoeB5NKdMpwT",
        "outputId": "908944ed-2183-450d-f828-61cc9989c053"
      },
      "execution_count": 33,
      "outputs": [
        {
          "output_type": "execute_result",
          "data": {
            "text/plain": [
              "'No categorical variables to analyze.'"
            ],
            "application/vnd.google.colaboratory.intrinsic+json": {
              "type": "string"
            }
          },
          "metadata": {},
          "execution_count": 33
        }
      ]
    },
    {
      "cell_type": "code",
      "source": [
        "table7= freq_tbl(df['review_scores_communication'])\n",
        "table7"
      ],
      "metadata": {
        "colab": {
          "base_uri": "https://localhost:8080/",
          "height": 36
        },
        "id": "DiYg_NfZMuJL",
        "outputId": "6ef83d07-3379-4c50-bb8e-ddc9ef5f4c1a"
      },
      "execution_count": 34,
      "outputs": [
        {
          "output_type": "execute_result",
          "data": {
            "text/plain": [
              "'No categorical variables to analyze.'"
            ],
            "application/vnd.google.colaboratory.intrinsic+json": {
              "type": "string"
            }
          },
          "metadata": {},
          "execution_count": 34
        }
      ]
    },
    {
      "cell_type": "code",
      "source": [
        "table8= freq_tbl(df['review_scores_value'])\n",
        "table8"
      ],
      "metadata": {
        "colab": {
          "base_uri": "https://localhost:8080/",
          "height": 36
        },
        "id": "uoymsqmJMyy_",
        "outputId": "b43babd4-618d-415f-f7ac-50248fa43d7f"
      },
      "execution_count": 36,
      "outputs": [
        {
          "output_type": "execute_result",
          "data": {
            "text/plain": [
              "'No categorical variables to analyze.'"
            ],
            "application/vnd.google.colaboratory.intrinsic+json": {
              "type": "string"
            }
          },
          "metadata": {},
          "execution_count": 36
        }
      ]
    }
  ]
}